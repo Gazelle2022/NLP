{
  "nbformat": 4,
  "nbformat_minor": 0,
  "metadata": {
    "colab": {
      "provenance": []
    },
    "kernelspec": {
      "name": "python3",
      "display_name": "Python 3"
    },
    "language_info": {
      "name": "python"
    }
  },
  "cells": [
    {
      "cell_type": "code",
      "execution_count": null,
      "metadata": {
        "id": "-Hf5yYhPq7ek"
      },
      "outputs": [],
      "source": [
        "import pandas as pd\n",
        "import numpy as np\n",
        "import seaborn as sns\n",
        "import matplotlib.pyplot as plt\n",
        "import matplotlib.ticker as mtick\n",
        "import plotly.express as px"
      ]
    },
    {
      "cell_type": "code",
      "source": [
        "from google.colab import files\n",
        "uploaded=files.upload()"
      ],
      "metadata": {
        "colab": {
          "resources": {
            "http://localhost:8080/nbextensions/google.colab/files.js": {
              "data": "Ly8gQ29weXJpZ2h0IDIwMTcgR29vZ2xlIExMQwovLwovLyBMaWNlbnNlZCB1bmRlciB0aGUgQXBhY2hlIExpY2Vuc2UsIFZlcnNpb24gMi4wICh0aGUgIkxpY2Vuc2UiKTsKLy8geW91IG1heSBub3QgdXNlIHRoaXMgZmlsZSBleGNlcHQgaW4gY29tcGxpYW5jZSB3aXRoIHRoZSBMaWNlbnNlLgovLyBZb3UgbWF5IG9idGFpbiBhIGNvcHkgb2YgdGhlIExpY2Vuc2UgYXQKLy8KLy8gICAgICBodHRwOi8vd3d3LmFwYWNoZS5vcmcvbGljZW5zZXMvTElDRU5TRS0yLjAKLy8KLy8gVW5sZXNzIHJlcXVpcmVkIGJ5IGFwcGxpY2FibGUgbGF3IG9yIGFncmVlZCB0byBpbiB3cml0aW5nLCBzb2Z0d2FyZQovLyBkaXN0cmlidXRlZCB1bmRlciB0aGUgTGljZW5zZSBpcyBkaXN0cmlidXRlZCBvbiBhbiAiQVMgSVMiIEJBU0lTLAovLyBXSVRIT1VUIFdBUlJBTlRJRVMgT1IgQ09ORElUSU9OUyBPRiBBTlkgS0lORCwgZWl0aGVyIGV4cHJlc3Mgb3IgaW1wbGllZC4KLy8gU2VlIHRoZSBMaWNlbnNlIGZvciB0aGUgc3BlY2lmaWMgbGFuZ3VhZ2UgZ292ZXJuaW5nIHBlcm1pc3Npb25zIGFuZAovLyBsaW1pdGF0aW9ucyB1bmRlciB0aGUgTGljZW5zZS4KCi8qKgogKiBAZmlsZW92ZXJ2aWV3IEhlbHBlcnMgZm9yIGdvb2dsZS5jb2xhYiBQeXRob24gbW9kdWxlLgogKi8KKGZ1bmN0aW9uKHNjb3BlKSB7CmZ1bmN0aW9uIHNwYW4odGV4dCwgc3R5bGVBdHRyaWJ1dGVzID0ge30pIHsKICBjb25zdCBlbGVtZW50ID0gZG9jdW1lbnQuY3JlYXRlRWxlbWVudCgnc3BhbicpOwogIGVsZW1lbnQudGV4dENvbnRlbnQgPSB0ZXh0OwogIGZvciAoY29uc3Qga2V5IG9mIE9iamVjdC5rZXlzKHN0eWxlQXR0cmlidXRlcykpIHsKICAgIGVsZW1lbnQuc3R5bGVba2V5XSA9IHN0eWxlQXR0cmlidXRlc1trZXldOwogIH0KICByZXR1cm4gZWxlbWVudDsKfQoKLy8gTWF4IG51bWJlciBvZiBieXRlcyB3aGljaCB3aWxsIGJlIHVwbG9hZGVkIGF0IGEgdGltZS4KY29uc3QgTUFYX1BBWUxPQURfU0laRSA9IDEwMCAqIDEwMjQ7CgpmdW5jdGlvbiBfdXBsb2FkRmlsZXMoaW5wdXRJZCwgb3V0cHV0SWQpIHsKICBjb25zdCBzdGVwcyA9IHVwbG9hZEZpbGVzU3RlcChpbnB1dElkLCBvdXRwdXRJZCk7CiAgY29uc3Qgb3V0cHV0RWxlbWVudCA9IGRvY3VtZW50LmdldEVsZW1lbnRCeUlkKG91dHB1dElkKTsKICAvLyBDYWNoZSBzdGVwcyBvbiB0aGUgb3V0cHV0RWxlbWVudCB0byBtYWtlIGl0IGF2YWlsYWJsZSBmb3IgdGhlIG5leHQgY2FsbAogIC8vIHRvIHVwbG9hZEZpbGVzQ29udGludWUgZnJvbSBQeXRob24uCiAgb3V0cHV0RWxlbWVudC5zdGVwcyA9IHN0ZXBzOwoKICByZXR1cm4gX3VwbG9hZEZpbGVzQ29udGludWUob3V0cHV0SWQpOwp9CgovLyBUaGlzIGlzIHJvdWdobHkgYW4gYXN5bmMgZ2VuZXJhdG9yIChub3Qgc3VwcG9ydGVkIGluIHRoZSBicm93c2VyIHlldCksCi8vIHdoZXJlIHRoZXJlIGFyZSBtdWx0aXBsZSBhc3luY2hyb25vdXMgc3RlcHMgYW5kIHRoZSBQeXRob24gc2lkZSBpcyBnb2luZwovLyB0byBwb2xsIGZvciBjb21wbGV0aW9uIG9mIGVhY2ggc3RlcC4KLy8gVGhpcyB1c2VzIGEgUHJvbWlzZSB0byBibG9jayB0aGUgcHl0aG9uIHNpZGUgb24gY29tcGxldGlvbiBvZiBlYWNoIHN0ZXAsCi8vIHRoZW4gcGFzc2VzIHRoZSByZXN1bHQgb2YgdGhlIHByZXZpb3VzIHN0ZXAgYXMgdGhlIGlucHV0IHRvIHRoZSBuZXh0IHN0ZXAuCmZ1bmN0aW9uIF91cGxvYWRGaWxlc0NvbnRpbnVlKG91dHB1dElkKSB7CiAgY29uc3Qgb3V0cHV0RWxlbWVudCA9IGRvY3VtZW50LmdldEVsZW1lbnRCeUlkKG91dHB1dElkKTsKICBjb25zdCBzdGVwcyA9IG91dHB1dEVsZW1lbnQuc3RlcHM7CgogIGNvbnN0IG5leHQgPSBzdGVwcy5uZXh0KG91dHB1dEVsZW1lbnQubGFzdFByb21pc2VWYWx1ZSk7CiAgcmV0dXJuIFByb21pc2UucmVzb2x2ZShuZXh0LnZhbHVlLnByb21pc2UpLnRoZW4oKHZhbHVlKSA9PiB7CiAgICAvLyBDYWNoZSB0aGUgbGFzdCBwcm9taXNlIHZhbHVlIHRvIG1ha2UgaXQgYXZhaWxhYmxlIHRvIHRoZSBuZXh0CiAgICAvLyBzdGVwIG9mIHRoZSBnZW5lcmF0b3IuCiAgICBvdXRwdXRFbGVtZW50Lmxhc3RQcm9taXNlVmFsdWUgPSB2YWx1ZTsKICAgIHJldHVybiBuZXh0LnZhbHVlLnJlc3BvbnNlOwogIH0pOwp9CgovKioKICogR2VuZXJhdG9yIGZ1bmN0aW9uIHdoaWNoIGlzIGNhbGxlZCBiZXR3ZWVuIGVhY2ggYXN5bmMgc3RlcCBvZiB0aGUgdXBsb2FkCiAqIHByb2Nlc3MuCiAqIEBwYXJhbSB7c3RyaW5nfSBpbnB1dElkIEVsZW1lbnQgSUQgb2YgdGhlIGlucHV0IGZpbGUgcGlja2VyIGVsZW1lbnQuCiAqIEBwYXJhbSB7c3RyaW5nfSBvdXRwdXRJZCBFbGVtZW50IElEIG9mIHRoZSBvdXRwdXQgZGlzcGxheS4KICogQHJldHVybiB7IUl0ZXJhYmxlPCFPYmplY3Q+fSBJdGVyYWJsZSBvZiBuZXh0IHN0ZXBzLgogKi8KZnVuY3Rpb24qIHVwbG9hZEZpbGVzU3RlcChpbnB1dElkLCBvdXRwdXRJZCkgewogIGNvbnN0IGlucHV0RWxlbWVudCA9IGRvY3VtZW50LmdldEVsZW1lbnRCeUlkKGlucHV0SWQpOwogIGlucHV0RWxlbWVudC5kaXNhYmxlZCA9IGZhbHNlOwoKICBjb25zdCBvdXRwdXRFbGVtZW50ID0gZG9jdW1lbnQuZ2V0RWxlbWVudEJ5SWQob3V0cHV0SWQpOwogIG91dHB1dEVsZW1lbnQuaW5uZXJIVE1MID0gJyc7CgogIGNvbnN0IHBpY2tlZFByb21pc2UgPSBuZXcgUHJvbWlzZSgocmVzb2x2ZSkgPT4gewogICAgaW5wdXRFbGVtZW50LmFkZEV2ZW50TGlzdGVuZXIoJ2NoYW5nZScsIChlKSA9PiB7CiAgICAgIHJlc29sdmUoZS50YXJnZXQuZmlsZXMpOwogICAgfSk7CiAgfSk7CgogIGNvbnN0IGNhbmNlbCA9IGRvY3VtZW50LmNyZWF0ZUVsZW1lbnQoJ2J1dHRvbicpOwogIGlucHV0RWxlbWVudC5wYXJlbnRFbGVtZW50LmFwcGVuZENoaWxkKGNhbmNlbCk7CiAgY2FuY2VsLnRleHRDb250ZW50ID0gJ0NhbmNlbCB1cGxvYWQnOwogIGNvbnN0IGNhbmNlbFByb21pc2UgPSBuZXcgUHJvbWlzZSgocmVzb2x2ZSkgPT4gewogICAgY2FuY2VsLm9uY2xpY2sgPSAoKSA9PiB7CiAgICAgIHJlc29sdmUobnVsbCk7CiAgICB9OwogIH0pOwoKICAvLyBXYWl0IGZvciB0aGUgdXNlciB0byBwaWNrIHRoZSBmaWxlcy4KICBjb25zdCBmaWxlcyA9IHlpZWxkIHsKICAgIHByb21pc2U6IFByb21pc2UucmFjZShbcGlja2VkUHJvbWlzZSwgY2FuY2VsUHJvbWlzZV0pLAogICAgcmVzcG9uc2U6IHsKICAgICAgYWN0aW9uOiAnc3RhcnRpbmcnLAogICAgfQogIH07CgogIGNhbmNlbC5yZW1vdmUoKTsKCiAgLy8gRGlzYWJsZSB0aGUgaW5wdXQgZWxlbWVudCBzaW5jZSBmdXJ0aGVyIHBpY2tzIGFyZSBub3QgYWxsb3dlZC4KICBpbnB1dEVsZW1lbnQuZGlzYWJsZWQgPSB0cnVlOwoKICBpZiAoIWZpbGVzKSB7CiAgICByZXR1cm4gewogICAgICByZXNwb25zZTogewogICAgICAgIGFjdGlvbjogJ2NvbXBsZXRlJywKICAgICAgfQogICAgfTsKICB9CgogIGZvciAoY29uc3QgZmlsZSBvZiBmaWxlcykgewogICAgY29uc3QgbGkgPSBkb2N1bWVudC5jcmVhdGVFbGVtZW50KCdsaScpOwogICAgbGkuYXBwZW5kKHNwYW4oZmlsZS5uYW1lLCB7Zm9udFdlaWdodDogJ2JvbGQnfSkpOwogICAgbGkuYXBwZW5kKHNwYW4oCiAgICAgICAgYCgke2ZpbGUudHlwZSB8fCAnbi9hJ30pIC0gJHtmaWxlLnNpemV9IGJ5dGVzLCBgICsKICAgICAgICBgbGFzdCBtb2RpZmllZDogJHsKICAgICAgICAgICAgZmlsZS5sYXN0TW9kaWZpZWREYXRlID8gZmlsZS5sYXN0TW9kaWZpZWREYXRlLnRvTG9jYWxlRGF0ZVN0cmluZygpIDoKICAgICAgICAgICAgICAgICAgICAgICAgICAgICAgICAgICAgJ24vYSd9IC0gYCkpOwogICAgY29uc3QgcGVyY2VudCA9IHNwYW4oJzAlIGRvbmUnKTsKICAgIGxpLmFwcGVuZENoaWxkKHBlcmNlbnQpOwoKICAgIG91dHB1dEVsZW1lbnQuYXBwZW5kQ2hpbGQobGkpOwoKICAgIGNvbnN0IGZpbGVEYXRhUHJvbWlzZSA9IG5ldyBQcm9taXNlKChyZXNvbHZlKSA9PiB7CiAgICAgIGNvbnN0IHJlYWRlciA9IG5ldyBGaWxlUmVhZGVyKCk7CiAgICAgIHJlYWRlci5vbmxvYWQgPSAoZSkgPT4gewogICAgICAgIHJlc29sdmUoZS50YXJnZXQucmVzdWx0KTsKICAgICAgfTsKICAgICAgcmVhZGVyLnJlYWRBc0FycmF5QnVmZmVyKGZpbGUpOwogICAgfSk7CiAgICAvLyBXYWl0IGZvciB0aGUgZGF0YSB0byBiZSByZWFkeS4KICAgIGxldCBmaWxlRGF0YSA9IHlpZWxkIHsKICAgICAgcHJvbWlzZTogZmlsZURhdGFQcm9taXNlLAogICAgICByZXNwb25zZTogewogICAgICAgIGFjdGlvbjogJ2NvbnRpbnVlJywKICAgICAgfQogICAgfTsKCiAgICAvLyBVc2UgYSBjaHVua2VkIHNlbmRpbmcgdG8gYXZvaWQgbWVzc2FnZSBzaXplIGxpbWl0cy4gU2VlIGIvNjIxMTU2NjAuCiAgICBsZXQgcG9zaXRpb24gPSAwOwogICAgZG8gewogICAgICBjb25zdCBsZW5ndGggPSBNYXRoLm1pbihmaWxlRGF0YS5ieXRlTGVuZ3RoIC0gcG9zaXRpb24sIE1BWF9QQVlMT0FEX1NJWkUpOwogICAgICBjb25zdCBjaHVuayA9IG5ldyBVaW50OEFycmF5KGZpbGVEYXRhLCBwb3NpdGlvbiwgbGVuZ3RoKTsKICAgICAgcG9zaXRpb24gKz0gbGVuZ3RoOwoKICAgICAgY29uc3QgYmFzZTY0ID0gYnRvYShTdHJpbmcuZnJvbUNoYXJDb2RlLmFwcGx5KG51bGwsIGNodW5rKSk7CiAgICAgIHlpZWxkIHsKICAgICAgICByZXNwb25zZTogewogICAgICAgICAgYWN0aW9uOiAnYXBwZW5kJywKICAgICAgICAgIGZpbGU6IGZpbGUubmFtZSwKICAgICAgICAgIGRhdGE6IGJhc2U2NCwKICAgICAgICB9LAogICAgICB9OwoKICAgICAgbGV0IHBlcmNlbnREb25lID0gZmlsZURhdGEuYnl0ZUxlbmd0aCA9PT0gMCA/CiAgICAgICAgICAxMDAgOgogICAgICAgICAgTWF0aC5yb3VuZCgocG9zaXRpb24gLyBmaWxlRGF0YS5ieXRlTGVuZ3RoKSAqIDEwMCk7CiAgICAgIHBlcmNlbnQudGV4dENvbnRlbnQgPSBgJHtwZXJjZW50RG9uZX0lIGRvbmVgOwoKICAgIH0gd2hpbGUgKHBvc2l0aW9uIDwgZmlsZURhdGEuYnl0ZUxlbmd0aCk7CiAgfQoKICAvLyBBbGwgZG9uZS4KICB5aWVsZCB7CiAgICByZXNwb25zZTogewogICAgICBhY3Rpb246ICdjb21wbGV0ZScsCiAgICB9CiAgfTsKfQoKc2NvcGUuZ29vZ2xlID0gc2NvcGUuZ29vZ2xlIHx8IHt9OwpzY29wZS5nb29nbGUuY29sYWIgPSBzY29wZS5nb29nbGUuY29sYWIgfHwge307CnNjb3BlLmdvb2dsZS5jb2xhYi5fZmlsZXMgPSB7CiAgX3VwbG9hZEZpbGVzLAogIF91cGxvYWRGaWxlc0NvbnRpbnVlLAp9Owp9KShzZWxmKTsK",
              "ok": true,
              "headers": [
                [
                  "content-type",
                  "application/javascript"
                ]
              ],
              "status": 200,
              "status_text": ""
            }
          },
          "base_uri": "https://localhost:8080/",
          "height": 73
        },
        "id": "F6H8e2CKrd_0",
        "outputId": "7e422793-a273-47eb-d477-8e979dd389c0"
      },
      "execution_count": null,
      "outputs": [
        {
          "output_type": "display_data",
          "data": {
            "text/plain": [
              "<IPython.core.display.HTML object>"
            ],
            "text/html": [
              "\n",
              "     <input type=\"file\" id=\"files-0c8cb834-1a74-4290-9a4c-9f6f9f24c0a2\" name=\"files[]\" multiple disabled\n",
              "        style=\"border:none\" />\n",
              "     <output id=\"result-0c8cb834-1a74-4290-9a4c-9f6f9f24c0a2\">\n",
              "      Upload widget is only available when the cell has been executed in the\n",
              "      current browser session. Please rerun this cell to enable.\n",
              "      </output>\n",
              "      <script src=\"/nbextensions/google.colab/files.js\"></script> "
            ]
          },
          "metadata": {}
        },
        {
          "output_type": "stream",
          "name": "stdout",
          "text": [
            "Saving all_comments__202203.xlsx to all_comments__202203.xlsx\n"
          ]
        }
      ]
    },
    {
      "cell_type": "code",
      "source": [
        "df=pd.read_excel('all_comments__202203.xlsx')"
      ],
      "metadata": {
        "id": "4fE39_77sZAy"
      },
      "execution_count": null,
      "outputs": []
    },
    {
      "cell_type": "code",
      "source": [
        "df.head()"
      ],
      "metadata": {
        "id": "nxxihOPBstJT"
      },
      "execution_count": null,
      "outputs": []
    },
    {
      "cell_type": "code",
      "source": [
        "df.info()"
      ],
      "metadata": {
        "colab": {
          "base_uri": "https://localhost:8080/"
        },
        "id": "h26hn5jg4xJI",
        "outputId": "1a5ecad3-f3b4-47e1-95bb-c4ab6735cf20"
      },
      "execution_count": null,
      "outputs": [
        {
          "output_type": "stream",
          "name": "stdout",
          "text": [
            "<class 'pandas.core.frame.DataFrame'>\n",
            "RangeIndex: 2399 entries, 0 to 2398\n",
            "Data columns (total 5 columns):\n",
            " #   Column           Non-Null Count  Dtype \n",
            "---  ------           --------------  ----- \n",
            " 0   Date de réponse  2399 non-null   object\n",
            " 1   ID répondant     2399 non-null   int64 \n",
            " 2   score            2399 non-null   int64 \n",
            " 3   comment          2399 non-null   object\n",
            " 4   nps_category     2399 non-null   object\n",
            "dtypes: int64(2), object(3)\n",
            "memory usage: 93.8+ KB\n"
          ]
        }
      ]
    },
    {
      "cell_type": "code",
      "source": [
        "df.dtypes"
      ],
      "metadata": {
        "colab": {
          "base_uri": "https://localhost:8080/"
        },
        "id": "GOj6p-iBsygt",
        "outputId": "518d8fc6-fae6-498e-b0e4-0aa3d3c06e00"
      },
      "execution_count": null,
      "outputs": [
        {
          "output_type": "execute_result",
          "data": {
            "text/plain": [
              "Date de réponse    object\n",
              "ID répondant        int64\n",
              "score               int64\n",
              "comment            object\n",
              "dtype: object"
            ]
          },
          "metadata": {},
          "execution_count": 5
        }
      ]
    },
    {
      "cell_type": "code",
      "source": [
        "df.isnull().sum()\n"
      ],
      "metadata": {
        "colab": {
          "base_uri": "https://localhost:8080/"
        },
        "id": "99bZQCw2tmdH",
        "outputId": "00d5a270-261f-45fc-ea21-1c0521dbc26e"
      },
      "execution_count": null,
      "outputs": [
        {
          "output_type": "execute_result",
          "data": {
            "text/plain": [
              "Date de réponse    0\n",
              "ID répondant       0\n",
              "score              0\n",
              "comment            0\n",
              "dtype: int64"
            ]
          },
          "metadata": {},
          "execution_count": 6
        }
      ]
    },
    {
      "cell_type": "code",
      "source": [
        "conditions = [\n",
        "    (df['score'] <= 6),\n",
        "    ((df['score'] >6 )& (df['score'] < 9)),\n",
        "    (df['score'] >= 9)\n",
        "]\n",
        "\n",
        "values = ['Detractor', 'Passive', 'Promoter']\n",
        "\n",
        "df['nps_category'] = np.select(conditions, values)\n"
      ],
      "metadata": {
        "id": "H2KJctInBXjI"
      },
      "execution_count": null,
      "outputs": []
    },
    {
      "cell_type": "code",
      "source": [
        "df.head()"
      ],
      "metadata": {
        "id": "3UVk93wLBxs3"
      },
      "execution_count": null,
      "outputs": []
    },
    {
      "cell_type": "markdown",
      "source": [
        "##NPS Category Amounts"
      ],
      "metadata": {
        "id": "2DWIfWv8MEvT"
      }
    },
    {
      "cell_type": "code",
      "source": [
        "f, ax = plt.subplots(figsize=(10, 6))\n",
        "sns.countplot(y=\"nps_category\", data=df, color='C')"
      ],
      "metadata": {
        "colab": {
          "base_uri": "https://localhost:8080/",
          "height": 438
        },
        "id": "HuhoEhig5o29",
        "outputId": "b776f1e7-bb9e-4f85-df97-3054daba9e44"
      },
      "execution_count": null,
      "outputs": [
        {
          "output_type": "execute_result",
          "data": {
            "text/plain": [
              "<matplotlib.axes._subplots.AxesSubplot at 0x7f7ba21aca50>"
            ]
          },
          "metadata": {},
          "execution_count": 86
        },
        {
          "output_type": "display_data",
          "data": {
            "text/plain": [
              "<Figure size 720x432 with 1 Axes>"
            ],
            "image/png": "[encoded data removed]"
          },
          "metadata": {}
        }
      ]
    },
    {
      "cell_type": "markdown",
      "source": [
        "##calcul de NPS\n",
        "NPS = (Promoters - Detractors) (Promoters + Passives + Detractors)"
      ],
      "metadata": {
        "id": "VTu_tcoPL3Sp"
      }
    },
    {
      "cell_type": "code",
      "source": [
        "promoters_amt = len(df[df['nps_category'].dropna() == 'Promoter'])\n",
        "detractors_amt = len(df[df['nps_category'].dropna() == 'Detractor'])\n",
        "passive_amt = len(df[df['nps_category'].dropna() == 'Passive'])\n",
        "\n",
        "NPS = (promoters_amt - detractors_amt)/(promoters_amt+detractors_amt+passive_amt) *100\n",
        "print('NPS is: ', NPS, '%')\n"
      ],
      "metadata": {
        "colab": {
          "base_uri": "https://localhost:8080/"
        },
        "id": "mSZ8Zn8IJ4zi",
        "outputId": "2ae9ee04-bb52-424c-df84-3e0c30d30623"
      },
      "execution_count": null,
      "outputs": [
        {
          "output_type": "stream",
          "name": "stdout",
          "text": [
            "NPS is:  17.257190496040018 %\n"
          ]
        }
      ]
    },
    {
      "cell_type": "markdown",
      "source": [
        "##Percentage of each Rating"
      ],
      "metadata": {
        "id": "_wxREy3bML6N"
      }
    },
    {
      "cell_type": "code",
      "source": [
        "fig = px.pie(df, values=df['score'], names=df['score'], title='Percentage of Rating')\n",
        "fig.show()"
      ],
      "metadata": {
        "colab": {
          "base_uri": "https://localhost:8080/",
          "height": 542
        },
        "id": "Zzsvr4-dKkSq",
        "outputId": "d3a4db0e-0258-4911-d245-b65d08a531ce"
      },
      "execution_count": null,
      "outputs": [
        {
          "output_type": "display_data",
          "data": {
            "text/html": [
              "<html>\n",
              "<head><meta charset=\"utf-8\" /></head>\n",
              "<body>\n",
              "    <div>            <script src=\"https://cdnjs.cloudflare.com/ajax/libs/mathjax/2.7.5/MathJax.js?config=TeX-AMS-MML_SVG\"></script><script type=\"text/javascript\">if (window.MathJax) {MathJax.Hub.Config({SVG: {font: \"STIX-Web\"}});}</script>                <script type=\"text/javascript\">window.PlotlyConfig = {MathJaxConfig: 'local'};</script>\n",
              "        <script src=\"https://cdn.plot.ly/plotly-2.8.3.min.js\"></script>                <div id=\"3b9e17cd-7a27-4c5a-a61c-ceb33dc189a2\" class=\"plotly-graph-div\" style=\"height:525px; width:100%;\"></div>            <script type=\"text/javascript\">                                    window.PLOTLYENV=window.PLOTLYENV || {};                                    if (document.getElementById(\"3b9e17cd-7a27-4c5a-a61c-ceb33dc189a2\")) {                    Plotly.newPlot(                        \"3b9e17cd-7a27-4c5a-a61c-ceb33dc189a2\",                        [{\"domain\":{\"x\":[0.0,1.0],\"y\":[0.0,1.0]},\"hovertemplate\":\"score=%{value}<extra></extra>\",\"labels\":[9,6,0,0,0,6,10,6,10,0,9,10,10,0,10,10,9,3,9,10,5,0,9,1,8,10,0,9,2,9,7,10,10,3,3,9,10,10,10,8,10,10,4,5,0,0,9,10,10,0,3,8,0,4,9,10,9,9,0,10,8,8,10,9,3,10,0,9,10,10,10,9,2,0,0,0,10,10,10,8,8,6,8,7,0,9,8,8,0,10,0,10,0,10,10,1,4,0,9,4,1,10,10,10,0,10,2,10,10,10,0,10,10,10,9,4,1,9,10,10,9,8,1,3,10,9,7,9,0,8,8,10,8,9,10,10,9,9,5,1,0,4,0,0,2,1,0,9,5,10,0,9,10,10,0,0,10,10,10,9,10,3,10,9,10,0,1,10,9,10,8,10,9,10,4,0,3,0,8,9,9,2,10,10,0,9,9,10,2,10,0,0,3,10,10,8,8,10,10,9,7,1,9,0,4,6,10,10,10,2,9,0,10,3,4,9,9,0,0,10,3,0,9,10,0,9,9,9,10,10,0,10,10,10,7,10,0,5,10,0,10,10,10,10,10,4,0,10,0,10,9,9,9,0,0,7,1,9,10,0,10,5,9,9,2,1,10,1,10,10,3,10,10,9,9,8,0,9,0,10,2,0,1,0,0,10,10,8,0,2,4,6,9,9,10,10,10,10,0,9,10,8,10,10,9,8,10,10,10,0,2,10,3,0,2,10,1,8,9,8,9,10,6,9,3,1,0,10,2,9,9,8,1,10,4,0,10,9,10,10,10,1,10,10,10,0,9,5,10,9,3,9,4,9,9,10,0,9,10,10,6,10,8,1,10,3,7,0,3,10,9,3,5,10,10,6,2,10,2,10,6,7,0,0,5,10,10,2,0,9,0,9,9,10,1,5,1,3,8,0,8,10,9,9,9,0,10,9,10,9,1,5,0,2,10,0,0,9,0,6,9,10,7,10,9,10,10,0,10,10,10,3,10,9,9,10,1,3,0,2,1,0,9,10,8,9,9,10,5,0,10,10,0,3,9,9,10,8,4,10,10,7,0,9,10,9,9,5,10,8,5,10,10,10,6,9,0,0,8,9,10,7,7,10,7,8,10,3,10,1,7,5,9,0,0,10,0,9,10,9,10,8,10,9,1,9,10,9,10,0,8,7,7,0,10,10,10,10,0,10,8,10,0,5,5,10,0,4,9,9,2,10,0,0,9,9,10,1,10,10,0,2,10,9,0,10,9,5,9,9,10,7,5,9,10,2,10,10,9,0,1,5,0,9,5,9,10,0,10,10,0,10,3,10,10,2,9,9,10,0,10,10,8,8,0,10,0,10,5,9,0,9,0,10,0,1,10,10,0,9,10,1,6,7,10,4,10,10,9,8,10,0,9,10,10,6,0,10,10,1,10,1,9,10,7,10,9,10,10,0,9,7,10,10,0,10,9,10,7,9,4,10,0,5,1,0,9,9,10,10,9,10,8,9,9,0,10,9,10,10,0,10,10,9,9,10,6,10,10,2,8,0,9,2,7,0,9,10,0,2,10,10,9,0,10,10,3,1,2,3,10,10,8,10,10,0,10,5,1,0,10,9,0,5,10,10,1,0,6,10,3,9,10,10,0,7,8,10,1,10,0,1,10,10,10,10,0,0,7,8,10,0,7,10,10,3,3,9,10,10,9,0,10,1,10,10,9,7,10,10,9,0,1,1,9,10,10,9,6,9,10,5,10,10,10,10,5,4,10,10,10,5,10,10,10,1,10,7,10,9,5,10,3,0,8,0,5,8,9,10,0,5,3,9,10,9,0,2,10,0,10,10,7,10,9,9,1,9,0,10,10,0,10,8,0,7,0,8,2,9,10,0,10,10,8,9,5,0,0,0,0,10,3,10,10,9,10,8,0,7,0,0,9,6,6,0,9,10,10,10,10,0,0,10,10,8,10,10,10,9,10,3,10,8,9,9,0,10,9,0,0,9,6,10,10,10,8,0,10,2,3,9,1,0,10,10,8,10,10,10,1,10,8,10,10,5,9,0,4,6,9,9,10,9,4,10,10,10,10,10,10,7,10,5,10,10,1,9,0,9,10,10,5,9,10,9,9,9,5,5,10,0,9,4,10,0,9,10,6,10,9,10,9,0,1,10,10,9,10,0,7,10,0,9,10,10,7,0,0,0,0,10,3,10,10,1,10,10,8,1,9,9,0,0,9,9,0,9,10,9,6,9,10,10,0,10,0,9,0,1,0,0,0,9,10,9,5,0,8,10,10,9,3,10,9,7,9,7,10,10,10,6,10,10,9,10,9,8,10,0,0,0,2,7,10,9,5,2,7,9,10,10,1,10,10,9,10,10,0,10,8,10,10,5,3,1,1,3,10,8,7,0,1,7,0,3,10,9,0,10,9,5,10,10,10,9,0,7,8,10,9,10,10,3,10,10,10,0,9,10,9,10,10,9,9,10,10,10,10,9,5,10,0,0,10,3,10,10,10,10,10,1,9,1,10,0,1,0,4,10,0,8,9,10,10,9,3,3,9,9,10,0,8,0,5,10,9,9,10,0,0,10,8,10,10,10,10,3,9,10,9,4,2,2,10,0,9,2,10,7,10,9,9,7,0,3,9,0,7,0,9,0,8,5,7,10,0,10,10,5,0,10,0,8,8,10,10,10,0,10,10,5,10,0,3,10,8,0,9,8,10,9,10,0,1,0,10,1,10,3,6,9,9,6,10,0,9,10,1,0,1,0,0,5,9,10,0,0,10,7,10,5,10,9,1,10,10,10,10,10,1,10,7,8,10,10,0,0,2,10,3,6,9,0,9,10,1,10,10,10,9,9,0,5,8,9,0,10,5,1,10,3,5,8,0,0,0,10,0,10,10,10,10,9,4,1,0,0,10,7,9,8,0,10,9,0,10,10,9,10,0,9,0,6,5,0,9,0,10,9,0,10,10,3,10,0,8,10,3,10,7,9,9,10,10,9,0,0,0,10,8,10,1,10,7,10,10,10,9,10,9,10,10,0,9,10,10,10,10,10,1,1,10,9,10,0,0,10,0,10,4,10,0,8,0,9,0,0,4,1,9,9,0,8,10,9,9,9,9,9,9,10,0,10,10,10,10,10,3,10,10,8,9,0,9,10,0,10,4,9,10,10,10,6,3,0,0,0,8,0,8,9,10,8,0,1,9,1,3,7,10,0,9,7,0,0,1,8,0,10,0,9,9,5,10,10,0,10,10,10,10,8,0,10,2,10,2,9,9,0,9,1,5,8,10,7,8,10,10,10,10,0,0,9,10,7,0,0,9,9,6,10,0,0,9,0,9,10,6,10,4,9,2,9,0,5,10,8,1,1,2,0,5,10,7,5,10,0,10,9,7,8,2,2,9,10,10,9,8,10,10,10,9,10,0,8,4,2,6,10,8,10,10,9,10,3,4,10,9,0,7,0,10,10,4,8,10,9,10,0,8,9,10,10,10,7,10,8,10,10,8,10,10,10,0,2,10,9,0,0,10,8,0,8,10,0,10,10,10,10,9,4,10,0,9,1,10,0,0,10,10,9,2,10,9,7,9,10,1,0,10,0,10,0,8,0,3,10,0,10,10,10,10,2,9,10,10,10,8,10,6,9,10,0,6,10,10,10,6,10,8,0,10,5,3,0,5,0,2,10,10,10,3,0,0,10,9,9,9,9,2,10,10,10,10,1,9,3,5,10,10,10,9,8,4,9,0,3,0,10,10,9,1,0,10,10,5,10,10,6,0,10,2,10,10,9,3,10,10,10,9,3,0,10,7,0,10,10,10,9,10,10,0,10,10,10,10,10,8,10,9,10,10,10,10,3,3,10,10,10,0,10,4,0,3,10,5,10,0,0,0,10,0,0,0,10,9,8,0,9,10,2,10,10,9,0,9,9,0,7,9,10,7,3,1,9,1,6,9,10,10,6,10,10,10,0,9,10,0,8,0,10,10,9,0,7,7,10,8,0,9,0,0,7,0,10,7,10,0,9,2,9,1,1,10,9,9,10,2,6,0,9,7,10,10,8,3,0,10,10,10,0,10,8,0,9,10,0,5,0,0,10,10,2,8,10,9,8,10,0,10,10,9,0,10,0,10,8,10,10,8,9,10,10,8,10,10,10,10,9,0,3,10,0,0,8,4,10,0,4,0,0,0,2,0,5,1,10,1,8,10,0,5,7,1,8,0,8,9,8,9,10,10,10,10,10,8,0,0,9,9,10,7,10,10,0,10,3,10,0,9,0,10,3,9,9,10,10,10,10,10,9,0,10,10,0,10,0,10,2,10,9,10,0,4,4,0,10,8,10,10,10,9,0,10,9,10,8,10,6,10,0,10,9,7,9,10,2,10,3,10,0,9,10,9,2,0,8,9,5,0,10,0,10,10,0,4,10,0,10,10,10,10,9,2,0,10,10,10,10,5,10,9,0,10,0,1,2,10,0,1,0,3,10,10,0,2,9,10,1,9,10,0,10,10,3,0,0,8,9,10,10,10,5,10,1,10,0,8,9,0,0,10,9,4,9,9,10,7,10,10,10,9,8,9,10,9,10,0,8,10,9,9,10,7,10,7,10,10,6,9,0,0,0,9,0,10,9,5,1,10,1,0,0,10,0,5,9,10,7,10,10,1,10,10,9,0,10,9,0,10,10,0,3,8,10,10,0,7,0,10,6,7,10,9,10,10,4,10,10,3,0,10,10,0,10,10,9,10,9,0,9,9,9,0,3,10,9,0,0,9,6,8,7,9,9,5,5,10,10,9,10,2,4,6,10,5,10,9,10,9,10,9,10,6,1,9,10,10,3,10,3,10,10,1,9,3,0,10,9,10,3,0,3,10,10,10,0,10,9,9,0,9,9,8,10,5,10,7,8,1,2,10,10,7,10,0,6,10,10,10,1,8,0,1,9,10,10,10,7,4,9,9,8,1,10,9,10,10,9,0,9,8,10,6,10,6,10,9,10,10,8,10,0,4,9,0,10,10,8,0,2,10,10,10,9,0,9,8,7,3,5,9,0,9,7,0,9,8,10,9,0,10,10,10,7,9,8,0,4,0,9,5,0,10,0,5,4,2,3,7,5,10,10,9,4,1,6,10,8,10,10,10,0,10,2,0,1,10,10,0,10,2,9,10,10,0,10,10,10,7,0,10,0,8,8,0,9,10,3,6,9,9,9,7,9,0,3,9,0,10,9,9,0,10,10,10,10,10,3,10,10,0,10,10,9,0,6,0,0,9,2,4,8,10,9,10,8,4,0,10,1,1,10,8,10,5,9,10,2,2,10,8,10,9,9,8,9,1,0,9,9,10,10,9,10,10,8,9,10,10,9,10,8,0,9,3,2,10,0,10,3,2,8,10,10,10,0,2,10,8,2,0,10,0,0,0,10,0,8,8,10,10,10,0,10,9,0,10],\"legendgroup\":\"\",\"name\":\"\",\"showlegend\":true,\"values\":[9,6,0,0,0,6,10,6,10,0,9,10,10,0,10,10,9,3,9,10,5,0,9,1,8,10,0,9,2,9,7,10,10,3,3,9,10,10,10,8,10,10,4,5,0,0,9,10,10,0,3,8,0,4,9,10,9,9,0,10,8,8,10,9,3,10,0,9,10,10,10,9,2,0,0,0,10,10,10,8,8,6,8,7,0,9,8,8,0,10,0,10,0,10,10,1,4,0,9,4,1,10,10,10,0,10,2,10,10,10,0,10,10,10,9,4,1,9,10,10,9,8,1,3,10,9,7,9,0,8,8,10,8,9,10,10,9,9,5,1,0,4,0,0,2,1,0,9,5,10,0,9,10,10,0,0,10,10,10,9,10,3,10,9,10,0,1,10,9,10,8,10,9,10,4,0,3,0,8,9,9,2,10,10,0,9,9,10,2,10,0,0,3,10,10,8,8,10,10,9,7,1,9,0,4,6,10,10,10,2,9,0,10,3,4,9,9,0,0,10,3,0,9,10,0,9,9,9,10,10,0,10,10,10,7,10,0,5,10,0,10,10,10,10,10,4,0,10,0,10,9,9,9,0,0,7,1,9,10,0,10,5,9,9,2,1,10,1,10,10,3,10,10,9,9,8,0,9,0,10,2,0,1,0,0,10,10,8,0,2,4,6,9,9,10,10,10,10,0,9,10,8,10,10,9,8,10,10,10,0,2,10,3,0,2,10,1,8,9,8,9,10,6,9,3,1,0,10,2,9,9,8,1,10,4,0,10,9,10,10,10,1,10,10,10,0,9,5,10,9,3,9,4,9,9,10,0,9,10,10,6,10,8,1,10,3,7,0,3,10,9,3,5,10,10,6,2,10,2,10,6,7,0,0,5,10,10,2,0,9,0,9,9,10,1,5,1,3,8,0,8,10,9,9,9,0,10,9,10,9,1,5,0,2,10,0,0,9,0,6,9,10,7,10,9,10,10,0,10,10,10,3,10,9,9,10,1,3,0,2,1,0,9,10,8,9,9,10,5,0,10,10,0,3,9,9,10,8,4,10,10,7,0,9,10,9,9,5,10,8,5,10,10,10,6,9,0,0,8,9,10,7,7,10,7,8,10,3,10,1,7,5,9,0,0,10,0,9,10,9,10,8,10,9,1,9,10,9,10,0,8,7,7,0,10,10,10,10,0,10,8,10,0,5,5,10,0,4,9,9,2,10,0,0,9,9,10,1,10,10,0,2,10,9,0,10,9,5,9,9,10,7,5,9,10,2,10,10,9,0,1,5,0,9,5,9,10,0,10,10,0,10,3,10,10,2,9,9,10,0,10,10,8,8,0,10,0,10,5,9,0,9,0,10,0,1,10,10,0,9,10,1,6,7,10,4,10,10,9,8,10,0,9,10,10,6,0,10,10,1,10,1,9,10,7,10,9,10,10,0,9,7,10,10,0,10,9,10,7,9,4,10,0,5,1,0,9,9,10,10,9,10,8,9,9,0,10,9,10,10,0,10,10,9,9,10,6,10,10,2,8,0,9,2,7,0,9,10,0,2,10,10,9,0,10,10,3,1,2,3,10,10,8,10,10,0,10,5,1,0,10,9,0,5,10,10,1,0,6,10,3,9,10,10,0,7,8,10,1,10,0,1,10,10,10,10,0,0,7,8,10,0,7,10,10,3,3,9,10,10,9,0,10,1,10,10,9,7,10,10,9,0,1,1,9,10,10,9,6,9,10,5,10,10,10,10,5,4,10,10,10,5,10,10,10,1,10,7,10,9,5,10,3,0,8,0,5,8,9,10,0,5,3,9,10,9,0,2,10,0,10,10,7,10,9,9,1,9,0,10,10,0,10,8,0,7,0,8,2,9,10,0,10,10,8,9,5,0,0,0,0,10,3,10,10,9,10,8,0,7,0,0,9,6,6,0,9,10,10,10,10,0,0,10,10,8,10,10,10,9,10,3,10,8,9,9,0,10,9,0,0,9,6,10,10,10,8,0,10,2,3,9,1,0,10,10,8,10,10,10,1,10,8,10,10,5,9,0,4,6,9,9,10,9,4,10,10,10,10,10,10,7,10,5,10,10,1,9,0,9,10,10,5,9,10,9,9,9,5,5,10,0,9,4,10,0,9,10,6,10,9,10,9,0,1,10,10,9,10,0,7,10,0,9,10,10,7,0,0,0,0,10,3,10,10,1,10,10,8,1,9,9,0,0,9,9,0,9,10,9,6,9,10,10,0,10,0,9,0,1,0,0,0,9,10,9,5,0,8,10,10,9,3,10,9,7,9,7,10,10,10,6,10,10,9,10,9,8,10,0,0,0,2,7,10,9,5,2,7,9,10,10,1,10,10,9,10,10,0,10,8,10,10,5,3,1,1,3,10,8,7,0,1,7,0,3,10,9,0,10,9,5,10,10,10,9,0,7,8,10,9,10,10,3,10,10,10,0,9,10,9,10,10,9,9,10,10,10,10,9,5,10,0,0,10,3,10,10,10,10,10,1,9,1,10,0,1,0,4,10,0,8,9,10,10,9,3,3,9,9,10,0,8,0,5,10,9,9,10,0,0,10,8,10,10,10,10,3,9,10,9,4,2,2,10,0,9,2,10,7,10,9,9,7,0,3,9,0,7,0,9,0,8,5,7,10,0,10,10,5,0,10,0,8,8,10,10,10,0,10,10,5,10,0,3,10,8,0,9,8,10,9,10,0,1,0,10,1,10,3,6,9,9,6,10,0,9,10,1,0,1,0,0,5,9,10,0,0,10,7,10,5,10,9,1,10,10,10,10,10,1,10,7,8,10,10,0,0,2,10,3,6,9,0,9,10,1,10,10,10,9,9,0,5,8,9,0,10,5,1,10,3,5,8,0,0,0,10,0,10,10,10,10,9,4,1,0,0,10,7,9,8,0,10,9,0,10,10,9,10,0,9,0,6,5,0,9,0,10,9,0,10,10,3,10,0,8,10,3,10,7,9,9,10,10,9,0,0,0,10,8,10,1,10,7,10,10,10,9,10,9,10,10,0,9,10,10,10,10,10,1,1,10,9,10,0,0,10,0,10,4,10,0,8,0,9,0,0,4,1,9,9,0,8,10,9,9,9,9,9,9,10,0,10,10,10,10,10,3,10,10,8,9,0,9,10,0,10,4,9,10,10,10,6,3,0,0,0,8,0,8,9,10,8,0,1,9,1,3,7,10,0,9,7,0,0,1,8,0,10,0,9,9,5,10,10,0,10,10,10,10,8,0,10,2,10,2,9,9,0,9,1,5,8,10,7,8,10,10,10,10,0,0,9,10,7,0,0,9,9,6,10,0,0,9,0,9,10,6,10,4,9,2,9,0,5,10,8,1,1,2,0,5,10,7,5,10,0,10,9,7,8,2,2,9,10,10,9,8,10,10,10,9,10,0,8,4,2,6,10,8,10,10,9,10,3,4,10,9,0,7,0,10,10,4,8,10,9,10,0,8,9,10,10,10,7,10,8,10,10,8,10,10,10,0,2,10,9,0,0,10,8,0,8,10,0,10,10,10,10,9,4,10,0,9,1,10,0,0,10,10,9,2,10,9,7,9,10,1,0,10,0,10,0,8,0,3,10,0,10,10,10,10,2,9,10,10,10,8,10,6,9,10,0,6,10,10,10,6,10,8,0,10,5,3,0,5,0,2,10,10,10,3,0,0,10,9,9,9,9,2,10,10,10,10,1,9,3,5,10,10,10,9,8,4,9,0,3,0,10,10,9,1,0,10,10,5,10,10,6,0,10,2,10,10,9,3,10,10,10,9,3,0,10,7,0,10,10,10,9,10,10,0,10,10,10,10,10,8,10,9,10,10,10,10,3,3,10,10,10,0,10,4,0,3,10,5,10,0,0,0,10,0,0,0,10,9,8,0,9,10,2,10,10,9,0,9,9,0,7,9,10,7,3,1,9,1,6,9,10,10,6,10,10,10,0,9,10,0,8,0,10,10,9,0,7,7,10,8,0,9,0,0,7,0,10,7,10,0,9,2,9,1,1,10,9,9,10,2,6,0,9,7,10,10,8,3,0,10,10,10,0,10,8,0,9,10,0,5,0,0,10,10,2,8,10,9,8,10,0,10,10,9,0,10,0,10,8,10,10,8,9,10,10,8,10,10,10,10,9,0,3,10,0,0,8,4,10,0,4,0,0,0,2,0,5,1,10,1,8,10,0,5,7,1,8,0,8,9,8,9,10,10,10,10,10,8,0,0,9,9,10,7,10,10,0,10,3,10,0,9,0,10,3,9,9,10,10,10,10,10,9,0,10,10,0,10,0,10,2,10,9,10,0,4,4,0,10,8,10,10,10,9,0,10,9,10,8,10,6,10,0,10,9,7,9,10,2,10,3,10,0,9,10,9,2,0,8,9,5,0,10,0,10,10,0,4,10,0,10,10,10,10,9,2,0,10,10,10,10,5,10,9,0,10,0,1,2,10,0,1,0,3,10,10,0,2,9,10,1,9,10,0,10,10,3,0,0,8,9,10,10,10,5,10,1,10,0,8,9,0,0,10,9,4,9,9,10,7,10,10,10,9,8,9,10,9,10,0,8,10,9,9,10,7,10,7,10,10,6,9,0,0,0,9,0,10,9,5,1,10,1,0,0,10,0,5,9,10,7,10,10,1,10,10,9,0,10,9,0,10,10,0,3,8,10,10,0,7,0,10,6,7,10,9,10,10,4,10,10,3,0,10,10,0,10,10,9,10,9,0,9,9,9,0,3,10,9,0,0,9,6,8,7,9,9,5,5,10,10,9,10,2,4,6,10,5,10,9,10,9,10,9,10,6,1,9,10,10,3,10,3,10,10,1,9,3,0,10,9,10,3,0,3,10,10,10,0,10,9,9,0,9,9,8,10,5,10,7,8,1,2,10,10,7,10,0,6,10,10,10,1,8,0,1,9,10,10,10,7,4,9,9,8,1,10,9,10,10,9,0,9,8,10,6,10,6,10,9,10,10,8,10,0,4,9,0,10,10,8,0,2,10,10,10,9,0,9,8,7,3,5,9,0,9,7,0,9,8,10,9,0,10,10,10,7,9,8,0,4,0,9,5,0,10,0,5,4,2,3,7,5,10,10,9,4,1,6,10,8,10,10,10,0,10,2,0,1,10,10,0,10,2,9,10,10,0,10,10,10,7,0,10,0,8,8,0,9,10,3,6,9,9,9,7,9,0,3,9,0,10,9,9,0,10,10,10,10,10,3,10,10,0,10,10,9,0,6,0,0,9,2,4,8,10,9,10,8,4,0,10,1,1,10,8,10,5,9,10,2,2,10,8,10,9,9,8,9,1,0,9,9,10,10,9,10,10,8,9,10,10,9,10,8,0,9,3,2,10,0,10,3,2,8,10,10,10,0,2,10,8,2,0,10,0,0,0,10,0,8,8,10,10,10,0,10,9,0,10],\"type\":\"pie\"}],                        {\"template\":{\"data\":{\"bar\":[{\"error_x\":{\"color\":\"#2a3f5f\"},\"error_y\":{\"color\":\"#2a3f5f\"},\"marker\":{\"line\":{\"color\":\"#E5ECF6\",\"width\":0.5},\"pattern\":{\"fillmode\":\"overlay\",\"size\":10,\"solidity\":0.2}},\"type\":\"bar\"}],\"barpolar\":[{\"marker\":{\"line\":{\"color\":\"#E5ECF6\",\"width\":0.5},\"pattern\":{\"fillmode\":\"overlay\",\"size\":10,\"solidity\":0.2}},\"type\":\"barpolar\"}],\"carpet\":[{\"aaxis\":{\"endlinecolor\":\"#2a3f5f\",\"gridcolor\":\"white\",\"linecolor\":\"white\",\"minorgridcolor\":\"white\",\"startlinecolor\":\"#2a3f5f\"},\"baxis\":{\"endlinecolor\":\"#2a3f5f\",\"gridcolor\":\"white\",\"linecolor\":\"white\",\"minorgridcolor\":\"white\",\"startlinecolor\":\"#2a3f5f\"},\"type\":\"carpet\"}],\"choropleth\":[{\"colorbar\":{\"outlinewidth\":0,\"ticks\":\"\"},\"type\":\"choropleth\"}],\"contour\":[{\"colorbar\":{\"outlinewidth\":0,\"ticks\":\"\"},\"colorscale\":[[0.0,\"#0d0887\"],[0.1111111111111111,\"#46039f\"],[0.2222222222222222,\"#7201a8\"],[0.3333333333333333,\"#9c179e\"],[0.4444444444444444,\"#bd3786\"],[0.5555555555555556,\"#d8576b\"],[0.6666666666666666,\"#ed7953\"],[0.7777777777777778,\"#fb9f3a\"],[0.8888888888888888,\"#fdca26\"],[1.0,\"#f0f921\"]],\"type\":\"contour\"}],\"contourcarpet\":[{\"colorbar\":{\"outlinewidth\":0,\"ticks\":\"\"},\"type\":\"contourcarpet\"}],\"heatmap\":[{\"colorbar\":{\"outlinewidth\":0,\"ticks\":\"\"},\"colorscale\":[[0.0,\"#0d0887\"],[0.1111111111111111,\"#46039f\"],[0.2222222222222222,\"#7201a8\"],[0.3333333333333333,\"#9c179e\"],[0.4444444444444444,\"#bd3786\"],[0.5555555555555556,\"#d8576b\"],[0.6666666666666666,\"#ed7953\"],[0.7777777777777778,\"#fb9f3a\"],[0.8888888888888888,\"#fdca26\"],[1.0,\"#f0f921\"]],\"type\":\"heatmap\"}],\"heatmapgl\":[{\"colorbar\":{\"outlinewidth\":0,\"ticks\":\"\"},\"colorscale\":[[0.0,\"#0d0887\"],[0.1111111111111111,\"#46039f\"],[0.2222222222222222,\"#7201a8\"],[0.3333333333333333,\"#9c179e\"],[0.4444444444444444,\"#bd3786\"],[0.5555555555555556,\"#d8576b\"],[0.6666666666666666,\"#ed7953\"],[0.7777777777777778,\"#fb9f3a\"],[0.8888888888888888,\"#fdca26\"],[1.0,\"#f0f921\"]],\"type\":\"heatmapgl\"}],\"histogram\":[{\"marker\":{\"pattern\":{\"fillmode\":\"overlay\",\"size\":10,\"solidity\":0.2}},\"type\":\"histogram\"}],\"histogram2d\":[{\"colorbar\":{\"outlinewidth\":0,\"ticks\":\"\"},\"colorscale\":[[0.0,\"#0d0887\"],[0.1111111111111111,\"#46039f\"],[0.2222222222222222,\"#7201a8\"],[0.3333333333333333,\"#9c179e\"],[0.4444444444444444,\"#bd3786\"],[0.5555555555555556,\"#d8576b\"],[0.6666666666666666,\"#ed7953\"],[0.7777777777777778,\"#fb9f3a\"],[0.8888888888888888,\"#fdca26\"],[1.0,\"#f0f921\"]],\"type\":\"histogram2d\"}],\"histogram2dcontour\":[{\"colorbar\":{\"outlinewidth\":0,\"ticks\":\"\"},\"colorscale\":[[0.0,\"#0d0887\"],[0.1111111111111111,\"#46039f\"],[0.2222222222222222,\"#7201a8\"],[0.3333333333333333,\"#9c179e\"],[0.4444444444444444,\"#bd3786\"],[0.5555555555555556,\"#d8576b\"],[0.6666666666666666,\"#ed7953\"],[0.7777777777777778,\"#fb9f3a\"],[0.8888888888888888,\"#fdca26\"],[1.0,\"#f0f921\"]],\"type\":\"histogram2dcontour\"}],\"mesh3d\":[{\"colorbar\":{\"outlinewidth\":0,\"ticks\":\"\"},\"type\":\"mesh3d\"}],\"parcoords\":[{\"line\":{\"colorbar\":{\"outlinewidth\":0,\"ticks\":\"\"}},\"type\":\"parcoords\"}],\"pie\":[{\"automargin\":true,\"type\":\"pie\"}],\"scatter\":[{\"marker\":{\"colorbar\":{\"outlinewidth\":0,\"ticks\":\"\"}},\"type\":\"scatter\"}],\"scatter3d\":[{\"line\":{\"colorbar\":{\"outlinewidth\":0,\"ticks\":\"\"}},\"marker\":{\"colorbar\":{\"outlinewidth\":0,\"ticks\":\"\"}},\"type\":\"scatter3d\"}],\"scattercarpet\":[{\"marker\":{\"colorbar\":{\"outlinewidth\":0,\"ticks\":\"\"}},\"type\":\"scattercarpet\"}],\"scattergeo\":[{\"marker\":{\"colorbar\":{\"outlinewidth\":0,\"ticks\":\"\"}},\"type\":\"scattergeo\"}],\"scattergl\":[{\"marker\":{\"colorbar\":{\"outlinewidth\":0,\"ticks\":\"\"}},\"type\":\"scattergl\"}],\"scattermapbox\":[{\"marker\":{\"colorbar\":{\"outlinewidth\":0,\"ticks\":\"\"}},\"type\":\"scattermapbox\"}],\"scatterpolar\":[{\"marker\":{\"colorbar\":{\"outlinewidth\":0,\"ticks\":\"\"}},\"type\":\"scatterpolar\"}],\"scatterpolargl\":[{\"marker\":{\"colorbar\":{\"outlinewidth\":0,\"ticks\":\"\"}},\"type\":\"scatterpolargl\"}],\"scatterternary\":[{\"marker\":{\"colorbar\":{\"outlinewidth\":0,\"ticks\":\"\"}},\"type\":\"scatterternary\"}],\"surface\":[{\"colorbar\":{\"outlinewidth\":0,\"ticks\":\"\"},\"colorscale\":[[0.0,\"#0d0887\"],[0.1111111111111111,\"#46039f\"],[0.2222222222222222,\"#7201a8\"],[0.3333333333333333,\"#9c179e\"],[0.4444444444444444,\"#bd3786\"],[0.5555555555555556,\"#d8576b\"],[0.6666666666666666,\"#ed7953\"],[0.7777777777777778,\"#fb9f3a\"],[0.8888888888888888,\"#fdca26\"],[1.0,\"#f0f921\"]],\"type\":\"surface\"}],\"table\":[{\"cells\":{\"fill\":{\"color\":\"#EBF0F8\"},\"line\":{\"color\":\"white\"}},\"header\":{\"fill\":{\"color\":\"#C8D4E3\"},\"line\":{\"color\":\"white\"}},\"type\":\"table\"}]},\"layout\":{\"annotationdefaults\":{\"arrowcolor\":\"#2a3f5f\",\"arrowhead\":0,\"arrowwidth\":1},\"autotypenumbers\":\"strict\",\"coloraxis\":{\"colorbar\":{\"outlinewidth\":0,\"ticks\":\"\"}},\"colorscale\":{\"diverging\":[[0,\"#8e0152\"],[0.1,\"#c51b7d\"],[0.2,\"#de77ae\"],[0.3,\"#f1b6da\"],[0.4,\"#fde0ef\"],[0.5,\"#f7f7f7\"],[0.6,\"#e6f5d0\"],[0.7,\"#b8e186\"],[0.8,\"#7fbc41\"],[0.9,\"#4d9221\"],[1,\"#276419\"]],\"sequential\":[[0.0,\"#0d0887\"],[0.1111111111111111,\"#46039f\"],[0.2222222222222222,\"#7201a8\"],[0.3333333333333333,\"#9c179e\"],[0.4444444444444444,\"#bd3786\"],[0.5555555555555556,\"#d8576b\"],[0.6666666666666666,\"#ed7953\"],[0.7777777777777778,\"#fb9f3a\"],[0.8888888888888888,\"#fdca26\"],[1.0,\"#f0f921\"]],\"sequentialminus\":[[0.0,\"#0d0887\"],[0.1111111111111111,\"#46039f\"],[0.2222222222222222,\"#7201a8\"],[0.3333333333333333,\"#9c179e\"],[0.4444444444444444,\"#bd3786\"],[0.5555555555555556,\"#d8576b\"],[0.6666666666666666,\"#ed7953\"],[0.7777777777777778,\"#fb9f3a\"],[0.8888888888888888,\"#fdca26\"],[1.0,\"#f0f921\"]]},\"colorway\":[\"#636efa\",\"#EF553B\",\"#00cc96\",\"#ab63fa\",\"#FFA15A\",\"#19d3f3\",\"#FF6692\",\"#B6E880\",\"#FF97FF\",\"#FECB52\"],\"font\":{\"color\":\"#2a3f5f\"},\"geo\":{\"bgcolor\":\"white\",\"lakecolor\":\"white\",\"landcolor\":\"#E5ECF6\",\"showlakes\":true,\"showland\":true,\"subunitcolor\":\"white\"},\"hoverlabel\":{\"align\":\"left\"},\"hovermode\":\"closest\",\"mapbox\":{\"style\":\"light\"},\"paper_bgcolor\":\"white\",\"plot_bgcolor\":\"#E5ECF6\",\"polar\":{\"angularaxis\":{\"gridcolor\":\"white\",\"linecolor\":\"white\",\"ticks\":\"\"},\"bgcolor\":\"#E5ECF6\",\"radialaxis\":{\"gridcolor\":\"white\",\"linecolor\":\"white\",\"ticks\":\"\"}},\"scene\":{\"xaxis\":{\"backgroundcolor\":\"#E5ECF6\",\"gridcolor\":\"white\",\"gridwidth\":2,\"linecolor\":\"white\",\"showbackground\":true,\"ticks\":\"\",\"zerolinecolor\":\"white\"},\"yaxis\":{\"backgroundcolor\":\"#E5ECF6\",\"gridcolor\":\"white\",\"gridwidth\":2,\"linecolor\":\"white\",\"showbackground\":true,\"ticks\":\"\",\"zerolinecolor\":\"white\"},\"zaxis\":{\"backgroundcolor\":\"#E5ECF6\",\"gridcolor\":\"white\",\"gridwidth\":2,\"linecolor\":\"white\",\"showbackground\":true,\"ticks\":\"\",\"zerolinecolor\":\"white\"}},\"shapedefaults\":{\"line\":{\"color\":\"#2a3f5f\"}},\"ternary\":{\"aaxis\":{\"gridcolor\":\"white\",\"linecolor\":\"white\",\"ticks\":\"\"},\"baxis\":{\"gridcolor\":\"white\",\"linecolor\":\"white\",\"ticks\":\"\"},\"bgcolor\":\"#E5ECF6\",\"caxis\":{\"gridcolor\":\"white\",\"linecolor\":\"white\",\"ticks\":\"\"}},\"title\":{\"x\":0.05},\"xaxis\":{\"automargin\":true,\"gridcolor\":\"white\",\"linecolor\":\"white\",\"ticks\":\"\",\"title\":{\"standoff\":15},\"zerolinecolor\":\"white\",\"zerolinewidth\":2},\"yaxis\":{\"automargin\":true,\"gridcolor\":\"white\",\"linecolor\":\"white\",\"ticks\":\"\",\"title\":{\"standoff\":15},\"zerolinecolor\":\"white\",\"zerolinewidth\":2}}},\"legend\":{\"tracegroupgap\":0},\"title\":{\"text\":\"Percentage of Rating\"}},                        {\"responsive\": true}                    ).then(function(){\n",
              "                            \n",
              "var gd = document.getElementById('3b9e17cd-7a27-4c5a-a61c-ceb33dc189a2');\n",
              "var x = new MutationObserver(function (mutations, observer) {{\n",
              "        var display = window.getComputedStyle(gd).display;\n",
              "        if (!display || display === 'none') {{\n",
              "            console.log([gd, 'removed!']);\n",
              "            Plotly.purge(gd);\n",
              "            observer.disconnect();\n",
              "        }}\n",
              "}});\n",
              "\n",
              "// Listen for the removal of the full notebook cells\n",
              "var notebookContainer = gd.closest('#notebook-container');\n",
              "if (notebookContainer) {{\n",
              "    x.observe(notebookContainer, {childList: true});\n",
              "}}\n",
              "\n",
              "// Listen for the clearing of the current output cell\n",
              "var outputEl = gd.closest('.output');\n",
              "if (outputEl) {{\n",
              "    x.observe(outputEl, {childList: true});\n",
              "}}\n",
              "\n",
              "                        })                };                            </script>        </div>\n",
              "</body>\n",
              "</html>"
            ]
          },
          "metadata": {}
        }
      ]
    },
    {
      "cell_type": "code",
      "source": [
        "df['score'].value_counts()"
      ],
      "metadata": {
        "colab": {
          "base_uri": "https://localhost:8080/"
        },
        "id": "AN8K1R8RLbhm",
        "outputId": "ab3dbaf3-d57c-4abc-8f8c-c45b56e2a4c5"
      },
      "execution_count": null,
      "outputs": [
        {
          "output_type": "execute_result",
          "data": {
            "text/plain": [
              "10    872\n",
              "0     432\n",
              "9     417\n",
              "8     150\n",
              "1     104\n",
              "3      88\n",
              "7      85\n",
              "5      79\n",
              "2      72\n",
              "6      51\n",
              "4      49\n",
              "Name: score, dtype: int64"
            ]
          },
          "metadata": {},
          "execution_count": 77
        }
      ]
    },
    {
      "cell_type": "markdown",
      "source": [
        "##Count of each Rating"
      ],
      "metadata": {
        "id": "S6KQucraMZ2n"
      }
    },
    {
      "cell_type": "code",
      "source": [
        "# Bar Chart Example #1 (Simple): Categorical Variables Showing Counts\n",
        "sns.countplot(x=\"score\", palette=\"OrRd\", data=df)"
      ],
      "metadata": {
        "colab": {
          "base_uri": "https://localhost:8080/",
          "height": 329
        },
        "id": "OcNt6p2qLms3",
        "outputId": "c7aac55b-8447-447f-9ab4-c2c74ec0bf6e"
      },
      "execution_count": null,
      "outputs": [
        {
          "output_type": "execute_result",
          "data": {
            "text/plain": [
              "<matplotlib.axes._subplots.AxesSubplot at 0x7f7ba237c550>"
            ]
          },
          "metadata": {},
          "execution_count": 78
        },
        {
          "output_type": "display_data",
          "data": {
            "text/plain": [
              "<Figure size 432x288 with 1 Axes>"
            ],
            "image/png": "[encoded data removed]"
          },
          "metadata": {}
        }
      ]
    }
  ]
}